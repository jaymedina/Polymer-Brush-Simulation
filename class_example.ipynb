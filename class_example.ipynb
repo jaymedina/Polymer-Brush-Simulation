{
 "cells": [
  {
   "cell_type": "markdown",
   "id": "f552c8d0-e77e-4a0b-b7c5-022e512289e9",
   "metadata": {},
   "source": [
    "This is a working example to:\n",
    "\n",
    "Demonstrate a proof-of-concept template for how iteration is performed within a dictionary of polymers, where each polymer is a nested dictionary that contains attributes for the monomers within the designated polymer."
   ]
  },
  {
   "cell_type": "markdown",
   "id": "4e10d64a-6398-4fea-9f77-b7f62399a232",
   "metadata": {},
   "source": [
    "### Step 0: Imports"
   ]
  },
  {
   "cell_type": "markdown",
   "id": "236c2eba-82ef-4fa7-8c75-047368e363f2",
   "metadata": {},
   "source": [
    "We will only import `random` for this example to generate a random integer for each row (monomer) in the `x`, `y`, `z` nested dictionary keywords."
   ]
  },
  {
   "cell_type": "code",
   "execution_count": 53,
   "id": "e1ea0eb2-6021-4f1b-b9d2-55943c026631",
   "metadata": {},
   "outputs": [],
   "source": [
    "import random"
   ]
  },
  {
   "cell_type": "markdown",
   "id": "7a6912e6-5df0-4a20-b740-bd905980414f",
   "metadata": {},
   "source": [
    "### Step 1: Generate abritrary data"
   ]
  },
  {
   "cell_type": "markdown",
   "id": "b9cabde7-488e-4e81-9bd6-19aa20543dc4",
   "metadata": {},
   "source": [
    "Here I will be generating a dictionary of dummy data structured exactly like the real-life data."
   ]
  },
  {
   "cell_type": "code",
   "execution_count": 12,
   "id": "b2cdbfa9-92ab-4430-b841-81e36c6915a7",
   "metadata": {},
   "outputs": [
    {
     "data": {
      "text/plain": [
       "{'polymer_0': {'m_no': [0, 1, 2, 3, 4, 5, 6, 7, 8, 9],\n",
       "  'x': [100, 63, 1, 45, 72, 58, 22, 76, 23, 69],\n",
       "  'y': [73, 86, 1, 43, 5, 71, 90, 23, 48, 90],\n",
       "  'z': [81, 36, 42, 81, 84, 76, 64, 89, 93, 12]},\n",
       " 'polymer_1': {'m_no': [0, 1, 2, 3, 4, 5, 6, 7, 8, 9],\n",
       "  'x': [36, 71, 61, 98, 17, 28, 39, 5, 8, 21],\n",
       "  'y': [75, 81, 21, 43, 73, 87, 70, 100, 7, 93],\n",
       "  'z': [61, 20, 50, 54, 25, 95, 6, 44, 46, 45]},\n",
       " 'polymer_2': {'m_no': [0, 1, 2, 3, 4, 5, 6, 7, 8, 9],\n",
       "  'x': [18, 15, 58, 87, 42, 68, 100, 8, 1, 60],\n",
       "  'y': [29, 24, 30, 23, 53, 52, 56, 60, 31, 44],\n",
       "  'z': [21, 11, 11, 48, 32, 9, 19, 31, 26, 88]},\n",
       " 'polymer_3': {'m_no': [0, 1, 2, 3, 4, 5, 6, 7, 8, 9],\n",
       "  'x': [86, 73, 74, 42, 19, 68, 11, 63, 15, 7],\n",
       "  'y': [92, 75, 68, 54, 71, 9, 36, 89, 48, 75],\n",
       "  'z': [46, 94, 53, 71, 82, 35, 16, 16, 44, 30]},\n",
       " 'polymer_4': {'m_no': [0, 1, 2, 3, 4, 5, 6, 7, 8, 9],\n",
       "  'x': [9, 11, 54, 14, 23, 39, 33, 47, 77, 11],\n",
       "  'y': [28, 91, 41, 88, 92, 48, 66, 16, 45, 69],\n",
       "  'z': [22, 1, 63, 13, 41, 87, 88, 55, 4, 59]},\n",
       " 'polymer_5': {'m_no': [0, 1, 2, 3, 4, 5, 6, 7, 8, 9],\n",
       "  'x': [42, 80, 3, 35, 39, 88, 21, 7, 15, 79],\n",
       "  'y': [56, 60, 91, 55, 99, 86, 80, 36, 33, 13],\n",
       "  'z': [48, 39, 61, 9, 93, 91, 77, 13, 97, 63]},\n",
       " 'polymer_6': {'m_no': [0, 1, 2, 3, 4, 5, 6, 7, 8, 9],\n",
       "  'x': [85, 23, 34, 76, 42, 86, 90, 98, 12, 42],\n",
       "  'y': [67, 19, 31, 2, 61, 53, 98, 92, 41, 36],\n",
       "  'z': [45, 99, 21, 19, 20, 56, 5, 20, 62, 95]},\n",
       " 'polymer_7': {'m_no': [0, 1, 2, 3, 4, 5, 6, 7, 8, 9],\n",
       "  'x': [11, 64, 86, 51, 34, 34, 8, 18, 65, 36],\n",
       "  'y': [90, 41, 64, 33, 58, 20, 87, 48, 28, 70],\n",
       "  'z': [9, 72, 91, 28, 57, 12, 85, 51, 41, 20]},\n",
       " 'polymer_8': {'m_no': [0, 1, 2, 3, 4, 5, 6, 7, 8, 9],\n",
       "  'x': [32, 2, 46, 36, 73, 69, 6, 70, 71, 48],\n",
       "  'y': [24, 64, 23, 40, 42, 70, 69, 48, 22, 44],\n",
       "  'z': [36, 82, 69, 48, 65, 27, 44, 35, 88, 93]},\n",
       " 'polymer_9': {'m_no': [0, 1, 2, 3, 4, 5, 6, 7, 8, 9],\n",
       "  'x': [68, 40, 51, 65, 51, 71, 8, 21, 76, 33],\n",
       "  'y': [72, 27, 16, 74, 39, 63, 100, 54, 40, 87],\n",
       "  'z': [87, 91, 91, 18, 37, 18, 49, 97, 1, 88]}}"
      ]
     },
     "execution_count": 12,
     "metadata": {},
     "output_type": "execute_result"
    }
   ],
   "source": [
    "# Initiate a blank dictionary\n",
    "polymer_dictionary = {}\n",
    "\n",
    "# Populate the blank dictionary with polymer nested dictionaries and the attributes therein\n",
    "for iter1 in range(0, 10, 1):\n",
    "\n",
    "    # Each polymer nested dictionary will have the following attributes for each monomer: m_no, x, y, z\n",
    "    # Where m_no = monomer number and x, y, z are the coordinates of the monomer in space\n",
    "    polymer_dictionary[f\"polymer_{iter1}\"] = {\"m_no\" : [], \"x\" : [], \"y\" : [], \"z\" : []}\n",
    "\n",
    "    # Populate the nested dictionaries with monomers (10 monomers per polymer)\n",
    "    for iter2 in range(0, 10, 1):\n",
    "\n",
    "        polymer_dictionary[f\"polymer_{iter1}\"][\"m_no\"].append(iter2)\n",
    "        polymer_dictionary[f\"polymer_{iter1}\"][\"x\"].append(random.randint(1, 100))\n",
    "        polymer_dictionary[f\"polymer_{iter1}\"][\"y\"].append(random.randint(1, 100))\n",
    "        polymer_dictionary[f\"polymer_{iter1}\"][\"z\"].append(random.randint(1, 100))\n",
    "\n",
    "# Output the product\n",
    "polymer_dictionary"
   ]
  },
  {
   "cell_type": "code",
   "execution_count": 48,
   "id": "b65de85d-2888-452e-84fd-8862b470bb00",
   "metadata": {},
   "outputs": [],
   "source": [
    "class MyClass:\n",
    "\n",
    "    # The variables in here are attributes of the class. These attributes will be instantiated when the class object is called.\n",
    "    def __init__(self, **kwargs):\n",
    "\n",
    "        self.polymer_dictionary = kwargs.get('polymer_dictionary')\n",
    "        \n",
    "    def shift_second_up(self, polymer_dictionary, polymer):\n",
    "\n",
    "        # Declaring the polymer dictionary\n",
    "        self.polymer_dictionary = polymer_dictionary\n",
    "        \n",
    "        # For this example, let's shift up the z coordinate for the 2nd monomer (index=1) in the given polymer, by 100.\n",
    "        self.polymer_dictionary[polymer][\"z\"][1] += 100\n"
   ]
  },
  {
   "cell_type": "code",
   "execution_count": 49,
   "id": "65143568-6aca-4ea0-aa3d-7ebc8a3ed4f4",
   "metadata": {},
   "outputs": [],
   "source": [
    "# Initiate the class object. This just makes it so that you can work with the class methods and attributes.\n",
    "myclass_object = MyClass()"
   ]
  },
  {
   "cell_type": "code",
   "execution_count": 50,
   "id": "34ebca00-ff41-4060-a4b6-5d41d4bd5023",
   "metadata": {},
   "outputs": [],
   "source": [
    "# Let's shift up the Z coordinate for the 2nd monomer in polymers 5-9\n",
    "\n",
    "polymers_5_to_9 = list(polymer_dictionary.keys())[-5:]\n",
    "\n",
    "for polymer in polymers_5_to_9:\n",
    "\n",
    "    myclass_object.shift_second_up(polymer_dictionary, polymer)"
   ]
  },
  {
   "cell_type": "code",
   "execution_count": 52,
   "id": "e1ebf4d2-9568-4cc0-a06d-74ad6155ae47",
   "metadata": {},
   "outputs": [
    {
     "data": {
      "text/plain": [
       "{'polymer_0': {'m_no': [0, 1, 2, 3, 4, 5, 6, 7, 8, 9],\n",
       "  'x': [100, 63, 1, 45, 72, 58, 22, 76, 23, 69],\n",
       "  'y': [73, 86, 1, 43, 5, 71, 90, 23, 48, 90],\n",
       "  'z': [181, 36, 42, 81, 84, 76, 64, 89, 93, 12]},\n",
       " 'polymer_1': {'m_no': [0, 1, 2, 3, 4, 5, 6, 7, 8, 9],\n",
       "  'x': [36, 71, 61, 98, 17, 28, 39, 5, 8, 21],\n",
       "  'y': [75, 81, 21, 43, 73, 87, 70, 100, 7, 93],\n",
       "  'z': [61, 20, 50, 54, 25, 95, 6, 44, 46, 45]},\n",
       " 'polymer_2': {'m_no': [0, 1, 2, 3, 4, 5, 6, 7, 8, 9],\n",
       "  'x': [18, 15, 58, 87, 42, 68, 100, 8, 1, 60],\n",
       "  'y': [29, 24, 30, 23, 53, 52, 56, 60, 31, 44],\n",
       "  'z': [21, 11, 11, 48, 32, 9, 19, 31, 26, 88]},\n",
       " 'polymer_3': {'m_no': [0, 1, 2, 3, 4, 5, 6, 7, 8, 9],\n",
       "  'x': [86, 73, 74, 42, 19, 68, 11, 63, 15, 7],\n",
       "  'y': [92, 75, 68, 54, 71, 9, 36, 89, 48, 75],\n",
       "  'z': [46, 94, 53, 71, 82, 35, 16, 16, 44, 30]},\n",
       " 'polymer_4': {'m_no': [0, 1, 2, 3, 4, 5, 6, 7, 8, 9],\n",
       "  'x': [9, 11, 54, 14, 23, 39, 33, 47, 77, 11],\n",
       "  'y': [28, 91, 41, 88, 92, 48, 66, 16, 45, 69],\n",
       "  'z': [22, 1, 63, 13, 41, 87, 88, 55, 4, 59]},\n",
       " 'polymer_5': {'m_no': [0, 1, 2, 3, 4, 5, 6, 7, 8, 9],\n",
       "  'x': [42, 80, 3, 35, 39, 88, 21, 7, 15, 79],\n",
       "  'y': [56, 60, 91, 55, 99, 86, 80, 36, 33, 13],\n",
       "  'z': [48, 139, 61, 9, 93, 91, 77, 13, 97, 63]},\n",
       " 'polymer_6': {'m_no': [0, 1, 2, 3, 4, 5, 6, 7, 8, 9],\n",
       "  'x': [85, 23, 34, 76, 42, 86, 90, 98, 12, 42],\n",
       "  'y': [67, 19, 31, 2, 61, 53, 98, 92, 41, 36],\n",
       "  'z': [45, 199, 21, 19, 20, 56, 5, 20, 62, 95]},\n",
       " 'polymer_7': {'m_no': [0, 1, 2, 3, 4, 5, 6, 7, 8, 9],\n",
       "  'x': [11, 64, 86, 51, 34, 34, 8, 18, 65, 36],\n",
       "  'y': [90, 41, 64, 33, 58, 20, 87, 48, 28, 70],\n",
       "  'z': [9, 172, 91, 28, 57, 12, 85, 51, 41, 20]},\n",
       " 'polymer_8': {'m_no': [0, 1, 2, 3, 4, 5, 6, 7, 8, 9],\n",
       "  'x': [32, 2, 46, 36, 73, 69, 6, 70, 71, 48],\n",
       "  'y': [24, 64, 23, 40, 42, 70, 69, 48, 22, 44],\n",
       "  'z': [36, 182, 69, 48, 65, 27, 44, 35, 88, 93]},\n",
       " 'polymer_9': {'m_no': [0, 1, 2, 3, 4, 5, 6, 7, 8, 9],\n",
       "  'x': [68, 40, 51, 65, 51, 71, 8, 21, 76, 33],\n",
       "  'y': [72, 27, 16, 74, 39, 63, 100, 54, 40, 87],\n",
       "  'z': [87, 191, 91, 18, 37, 18, 49, 97, 1, 88]}}"
      ]
     },
     "execution_count": 52,
     "metadata": {},
     "output_type": "execute_result"
    }
   ],
   "source": [
    "myclass_object.polymer_dictionary"
   ]
  },
  {
   "cell_type": "code",
   "execution_count": null,
   "id": "73dddcf5-0118-470d-91d0-ff1303071115",
   "metadata": {},
   "outputs": [],
   "source": []
  }
 ],
 "metadata": {
  "kernelspec": {
   "display_name": "Python 3 (ipykernel)",
   "language": "python",
   "name": "python3"
  },
  "language_info": {
   "codemirror_mode": {
    "name": "ipython",
    "version": 3
   },
   "file_extension": ".py",
   "mimetype": "text/x-python",
   "name": "python",
   "nbconvert_exporter": "python",
   "pygments_lexer": "ipython3",
   "version": "3.9.18"
  }
 },
 "nbformat": 4,
 "nbformat_minor": 5
}
