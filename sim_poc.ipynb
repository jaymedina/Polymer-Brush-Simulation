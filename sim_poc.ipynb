{
 "cells": [
  {
   "cell_type": "markdown",
   "id": "a2e223df",
   "metadata": {},
   "source": [
    "This is a proof-of-concept notebook that generates a single polymer containing 10 monomers with no charge"
   ]
  },
  {
   "cell_type": "markdown",
   "id": "e77afe53",
   "metadata": {},
   "source": [
    "Beginning with the imports. The following imports are used for the following reasons:\n",
    "\n",
    "1. `mpl_toolkits.mplot3d` for 3D plotting <br>\n",
    "2. `numpy` for data manipulation (taking the square-root, etc.) <br>\n",
    "3. `matplotlib.pyplot` for plotting purposes (creating the plotting canvas etc.) <br>\n",
    "4. `pandas` for creating a data frame from the data and writing it to a CSV file. <br>\n",
    "5. `random` to randomly generate numbers"
   ]
  },
  {
   "cell_type": "code",
   "execution_count": null,
   "id": "3792342d",
   "metadata": {},
   "outputs": [],
   "source": [
    "from mpl_toolkits import mplot3d\n",
    "import numpy as np\n",
    "import matplotlib.pyplot as plt\n",
    "import pandas as pd\n",
    "import random"
   ]
  },
  {
   "cell_type": "markdown",
   "id": "38f72623",
   "metadata": {},
   "source": [
    "The following two functions are used to generate the polymer... `gen_monomer_axis` and `create_polymer`\n",
    "\n",
    "`gen_monomer_axis` creates a coordinate value (either X Y or Z) that is within `r = 1` distance from the preceding coordiate value. For example: If the previous monomer was located and X = 1, `gen_monomer_axis` generates a coordinate value that is within the range X = [0, 2].\n",
    "\n",
    "`create_polymer` generates and plots a string of monomers all within `r = 1` distance from each other."
   ]
  },
  {
   "cell_type": "code",
   "execution_count": null,
   "id": "17c1cb33",
   "metadata": {},
   "outputs": [],
   "source": [
    "def gen_monomer_axis(axis, axlabel):\n",
    "    \"\"\" Generate the coordinate for the axis. \n",
    "    \"\"\"\n",
    "    r = 1\n",
    "    d = random.uniform(0.1, r) * random.choice((-1, 1))\n",
    "    if axlabel == 'y':\n",
    "        d = np.abs(d)\n",
    "    return axis + d\n",
    "\n",
    "def create_polymer(n_monomers=10, dim=10, save_data=False):\n",
    "    \"\"\"\n",
    "    Instantiate a monomer at a random position (X, Y, Z=0) with the following constraints:\n",
    "    1. The monomers cannot occupy the same space\n",
    "    2. The monomers are must all be at most a distance r=1 apart from each other\n",
    "\n",
    "    Remaining questions:\n",
    "    1. How many polymers do we want in a single plane?\n",
    "    2. How many monomers do we want per polymer?\n",
    "\n",
    "    Parameter(s)\n",
    "    -----------\n",
    "    n_monomers : int\n",
    "        The number of monomers that the polymer will contain. Default is 10.\n",
    "    save_data : bool\n",
    "        When parameter is set to True, a pandas dataframe will be generated and stored\n",
    "        in a CSV (data) file that can be opened and plotted for later use.\n",
    "\n",
    "    Returns\n",
    "    -------\n",
    "    fig : matplitlib.figure object\n",
    "    \"\"\"\n",
    "    # Initialize matplotlib canvas that we will plot a 3D plane on\n",
    "    fig = plt.figure()\n",
    "\n",
    "    # This new axis (`ax`) is a 3D projection\n",
    "    ax = plt.axes(projection=\"3d\")\n",
    "    \n",
    "    # Let's set the axis limits for each dimension 10\n",
    "    ax.axes.set_xlim3d(left=0, right=dim) \n",
    "    ax.axes.set_ylim3d(bottom=0, top=dim) \n",
    "    ax.axes.set_zlim3d(bottom=0, top=dim) \n",
    "\n",
    "    # Initialize the starting coordinate for the FIRST monomer in the polymer.\n",
    "    # We randomize the starting position of X and Y (start_x and start_y), but the\n",
    "    # starting position of Z (start_z) will always be 0. The upper-limit of the\n",
    "    # randomization for start_x and start_y is 10, because that's the length of the\n",
    "    # X and Y axis.\n",
    "    start_x, start_y, start_z = np.random.randint(0, dim/2), np.random.randint(0, dim/2), 0\n",
    "\n",
    "    # Initialize 3 empty lists, one for each axis. These lists will house the coordinates\n",
    "    # of each of the monomers within the polymer. Currently, the plan is to house 10 monomers per polymer. \n",
    "    xs, ys, zs = [], [], []\n",
    "\n",
    "    # Let's put our initial coordinate into the lists\n",
    "    xs.append(start_x)\n",
    "    ys.append(start_y)\n",
    "    zs.append(start_z)\n",
    "\n",
    "    # Create a while loop, that will run until the last list (zs) reaches 10.\n",
    "    # Which means we officially have 10 coordinates, for 10 monomers\n",
    "    while len(zs) < n_monomers:\n",
    "\n",
    "        for axis, axlabel in zip([xs, ys, zs], ['x', 'y', 'z']):\n",
    "            new_monomer = gen_monomer_axis(axis[-1], axlabel)\n",
    "            axis.append(new_monomer)\n",
    "\n",
    "    # Plot the coordinates, setting s=100. makes the data points bigger and easier to see. You\n",
    "    # can play with this\n",
    "    ax.scatter(xs, ys, zs, s=100.)\n",
    "\n",
    "    # Plot the figure\n",
    "    plt.show()\n",
    "    \n",
    "    if save_data:\n",
    "        d = {'x': xs, 'y': ys, 'z': zs}\n",
    "        df = pd.DataFrame(data=d)\n",
    "        df.to_csv(\"initial_polymer.dat\")\n",
    "        \n",
    "        return \"New file was written... initial_polymer.dat\""
   ]
  },
  {
   "cell_type": "code",
   "execution_count": null,
   "id": "2ec9dee2",
   "metadata": {},
   "outputs": [],
   "source": [
    "create_polymer(n_monomers=10**6, dim=50, save_data=True)"
   ]
  },
  {
   "cell_type": "code",
   "execution_count": null,
   "id": "843b3ef8",
   "metadata": {},
   "outputs": [],
   "source": []
  }
 ],
 "metadata": {
  "kernelspec": {
   "display_name": "Python 3 (ipykernel)",
   "language": "python",
   "name": "python3"
  },
  "language_info": {
   "codemirror_mode": {
    "name": "ipython",
    "version": 3
   },
   "file_extension": ".py",
   "mimetype": "text/x-python",
   "name": "python",
   "nbconvert_exporter": "python",
   "pygments_lexer": "ipython3",
   "version": "3.11.5"
  }
 },
 "nbformat": 4,
 "nbformat_minor": 5
}
